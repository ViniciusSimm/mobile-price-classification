{
 "cells": [
  {
   "cell_type": "code",
   "execution_count": 1,
   "metadata": {},
   "outputs": [],
   "source": [
    "import pandas as pd"
   ]
  },
  {
   "cell_type": "markdown",
   "metadata": {},
   "source": [
    "Loading dataset from Kaggle (https://www.kaggle.com/datasets/iabhishekofficial/mobile-price-classification?select=train.csv)"
   ]
  },
  {
   "cell_type": "code",
   "execution_count": 2,
   "metadata": {},
   "outputs": [],
   "source": [
    "full_dataset = pd.read_csv('train.csv')"
   ]
  },
  {
   "cell_type": "code",
   "execution_count": 7,
   "metadata": {},
   "outputs": [
    {
     "data": {
      "text/plain": [
       "battery_power    501.0\n",
       "blue               0.0\n",
       "clock_speed        0.5\n",
       "dual_sim           0.0\n",
       "fc                 0.0\n",
       "four_g             0.0\n",
       "int_memory         2.0\n",
       "m_dep              0.1\n",
       "mobile_wt         80.0\n",
       "n_cores            1.0\n",
       "pc                 0.0\n",
       "px_height          0.0\n",
       "px_width         500.0\n",
       "ram              256.0\n",
       "sc_h               5.0\n",
       "sc_w               0.0\n",
       "talk_time          2.0\n",
       "three_g            0.0\n",
       "touch_screen       0.0\n",
       "wifi               0.0\n",
       "price_range        0.0\n",
       "dtype: float64"
      ]
     },
     "execution_count": 7,
     "metadata": {},
     "output_type": "execute_result"
    }
   ],
   "source": [
    "full_dataset.min()"
   ]
  },
  {
   "cell_type": "code",
   "execution_count": null,
   "metadata": {},
   "outputs": [],
   "source": []
  }
 ],
 "metadata": {
  "interpreter": {
   "hash": "051f523ea69bc1770ecd2306c10409abac68aa2062faba780e671356775dd235"
  },
  "kernelspec": {
   "display_name": "Python 3.8.8 ('base')",
   "language": "python",
   "name": "python3"
  },
  "language_info": {
   "codemirror_mode": {
    "name": "ipython",
    "version": 3
   },
   "file_extension": ".py",
   "mimetype": "text/x-python",
   "name": "python",
   "nbconvert_exporter": "python",
   "pygments_lexer": "ipython3",
   "version": "3.8.8"
  },
  "orig_nbformat": 4
 },
 "nbformat": 4,
 "nbformat_minor": 2
}
