{
 "cells": [
  {
   "cell_type": "code",
   "execution_count": 47,
   "metadata": {},
   "outputs": [],
   "source": [
    "import pandas as pd\n",
    "import numpy as np\n",
    "import tensorflow as tf\n",
    "from tensorflow import keras\n",
    "from tensorflow.keras import layers"
   ]
  },
  {
   "cell_type": "code",
   "execution_count": 48,
   "metadata": {},
   "outputs": [],
   "source": [
    "full_dataset = pd.read_csv('train.csv')\n",
    "divider = int(full_dataset.shape[0] * 0.8)\n",
    "\n",
    "train_dataset = full_dataset[:divider]\n",
    "test_dataset = full_dataset[divider:]\n"
   ]
  },
  {
   "cell_type": "code",
   "execution_count": 49,
   "metadata": {},
   "outputs": [],
   "source": [
    "def data_transform(dataset):\n",
    "    variables = dataset.drop('price_range',axis=1)\n",
    "    variables_array = np.array(variables)\n",
    "    results = dataset['price_range']\n",
    "    results_array = np.array(results)\n",
    "\n",
    "    return variables_array,results_array"
   ]
  },
  {
   "cell_type": "code",
   "execution_count": 50,
   "metadata": {},
   "outputs": [
    {
     "name": "stdout",
     "output_type": "stream",
     "text": [
      "(1600, 20) (1600,)\n"
     ]
    }
   ],
   "source": [
    "variables,results = data_transform(train_dataset)\n",
    "\n",
    "print(variables.shape,results.shape)"
   ]
  },
  {
   "cell_type": "code",
   "execution_count": 51,
   "metadata": {},
   "outputs": [],
   "source": [
    "model = keras.Sequential([\n",
    "    layers.Dense(256, activation= tf.nn.relu, input_dim = 20),\n",
    "    \n",
    "    layers.Dense(256, activation= tf.nn.relu),\n",
    "\n",
    "    layers.Dense(4, activation= tf.nn.softmax)\n",
    "])"
   ]
  },
  {
   "cell_type": "code",
   "execution_count": 73,
   "metadata": {},
   "outputs": [],
   "source": [
    "model.compile(optimizer='adam',loss='sparse_categorical_crossentropy',metrics=['accuracy'])"
   ]
  },
  {
   "cell_type": "code",
   "execution_count": 74,
   "metadata": {},
   "outputs": [],
   "source": [
    "one_hot_labels = keras.utils.to_categorical(results, num_classes=4)"
   ]
  },
  {
   "cell_type": "code",
   "execution_count": 75,
   "metadata": {},
   "outputs": [
    {
     "name": "stdout",
     "output_type": "stream",
     "text": [
      "Epoch 1/50\n",
      "16/16 [==============================] - 0s 1ms/step - loss: 18.2172 - accuracy: 0.5188\n",
      "Epoch 2/50\n",
      "16/16 [==============================] - 0s 1ms/step - loss: 5.6013 - accuracy: 0.5969\n",
      "Epoch 3/50\n",
      "16/16 [==============================] - 0s 1ms/step - loss: 2.6748 - accuracy: 0.6762\n",
      "Epoch 4/50\n",
      "16/16 [==============================] - 0s 1ms/step - loss: 1.3416 - accuracy: 0.7181\n",
      "Epoch 5/50\n",
      "16/16 [==============================] - 0s 1ms/step - loss: 1.0530 - accuracy: 0.7325\n",
      "Epoch 6/50\n",
      "16/16 [==============================] - 0s 1ms/step - loss: 1.1003 - accuracy: 0.7275\n",
      "Epoch 7/50\n",
      "16/16 [==============================] - 0s 1ms/step - loss: 1.2570 - accuracy: 0.7287\n",
      "Epoch 8/50\n",
      "16/16 [==============================] - 0s 1ms/step - loss: 1.3778 - accuracy: 0.7106\n",
      "Epoch 9/50\n",
      "16/16 [==============================] - 0s 1ms/step - loss: 1.0355 - accuracy: 0.7394\n",
      "Epoch 10/50\n",
      "16/16 [==============================] - 0s 1ms/step - loss: 1.5594 - accuracy: 0.6856\n",
      "Epoch 11/50\n",
      "16/16 [==============================] - 0s 1ms/step - loss: 2.1469 - accuracy: 0.6469\n",
      "Epoch 12/50\n",
      "16/16 [==============================] - 0s 1ms/step - loss: 1.2907 - accuracy: 0.7231\n",
      "Epoch 13/50\n",
      "16/16 [==============================] - 0s 1ms/step - loss: 1.3060 - accuracy: 0.7156\n",
      "Epoch 14/50\n",
      "16/16 [==============================] - 0s 1ms/step - loss: 2.0237 - accuracy: 0.6831\n",
      "Epoch 15/50\n",
      "16/16 [==============================] - 0s 2ms/step - loss: 1.7868 - accuracy: 0.6938\n",
      "Epoch 16/50\n",
      "16/16 [==============================] - 0s 1ms/step - loss: 1.1642 - accuracy: 0.7406\n",
      "Epoch 17/50\n",
      "16/16 [==============================] - 0s 1ms/step - loss: 1.2731 - accuracy: 0.7194\n",
      "Epoch 18/50\n",
      "16/16 [==============================] - 0s 1ms/step - loss: 1.2693 - accuracy: 0.7181\n",
      "Epoch 19/50\n",
      "16/16 [==============================] - 0s 1ms/step - loss: 0.9836 - accuracy: 0.7619\n",
      "Epoch 20/50\n",
      "16/16 [==============================] - 0s 1ms/step - loss: 1.0265 - accuracy: 0.7400\n",
      "Epoch 21/50\n",
      "16/16 [==============================] - 0s 2ms/step - loss: 1.3166 - accuracy: 0.7212\n",
      "Epoch 22/50\n",
      "16/16 [==============================] - 0s 1ms/step - loss: 2.0935 - accuracy: 0.6837\n",
      "Epoch 23/50\n",
      "16/16 [==============================] - 0s 2ms/step - loss: 1.5480 - accuracy: 0.7169\n",
      "Epoch 24/50\n",
      "16/16 [==============================] - 0s 1ms/step - loss: 1.5134 - accuracy: 0.7081\n",
      "Epoch 25/50\n",
      "16/16 [==============================] - 0s 1ms/step - loss: 1.6327 - accuracy: 0.6994\n",
      "Epoch 26/50\n",
      "16/16 [==============================] - 0s 2ms/step - loss: 1.9610 - accuracy: 0.6731\n",
      "Epoch 27/50\n",
      "16/16 [==============================] - 0s 1ms/step - loss: 1.2289 - accuracy: 0.7306\n",
      "Epoch 28/50\n",
      "16/16 [==============================] - 0s 1ms/step - loss: 1.3042 - accuracy: 0.7244\n",
      "Epoch 29/50\n",
      "16/16 [==============================] - 0s 1ms/step - loss: 0.9091 - accuracy: 0.7613\n",
      "Epoch 30/50\n",
      "16/16 [==============================] - 0s 1ms/step - loss: 0.7029 - accuracy: 0.7912\n",
      "Epoch 31/50\n",
      "16/16 [==============================] - 0s 1ms/step - loss: 1.2286 - accuracy: 0.7337\n",
      "Epoch 32/50\n",
      "16/16 [==============================] - 0s 1ms/step - loss: 1.2070 - accuracy: 0.7237\n",
      "Epoch 33/50\n",
      "16/16 [==============================] - 0s 1ms/step - loss: 0.8066 - accuracy: 0.7575\n",
      "Epoch 34/50\n",
      "16/16 [==============================] - 0s 2ms/step - loss: 1.1143 - accuracy: 0.7400\n",
      "Epoch 35/50\n",
      "16/16 [==============================] - 0s 1ms/step - loss: 1.0101 - accuracy: 0.7513\n",
      "Epoch 36/50\n",
      "16/16 [==============================] - 0s 1ms/step - loss: 0.9389 - accuracy: 0.7469\n",
      "Epoch 37/50\n",
      "16/16 [==============================] - 0s 1ms/step - loss: 1.3984 - accuracy: 0.7144\n",
      "Epoch 38/50\n",
      "16/16 [==============================] - 0s 1ms/step - loss: 0.8330 - accuracy: 0.7656\n",
      "Epoch 39/50\n",
      "16/16 [==============================] - 0s 1ms/step - loss: 0.9070 - accuracy: 0.7600\n",
      "Epoch 40/50\n",
      "16/16 [==============================] - 0s 1ms/step - loss: 1.2157 - accuracy: 0.7244\n",
      "Epoch 41/50\n",
      "16/16 [==============================] - 0s 1ms/step - loss: 1.6868 - accuracy: 0.6894\n",
      "Epoch 42/50\n",
      "16/16 [==============================] - 0s 1ms/step - loss: 2.1643 - accuracy: 0.6656\n",
      "Epoch 43/50\n",
      "16/16 [==============================] - 0s 1ms/step - loss: 1.7177 - accuracy: 0.6837\n",
      "Epoch 44/50\n",
      "16/16 [==============================] - 0s 1ms/step - loss: 1.1568 - accuracy: 0.7231\n",
      "Epoch 45/50\n",
      "16/16 [==============================] - 0s 2ms/step - loss: 1.2001 - accuracy: 0.7294\n",
      "Epoch 46/50\n",
      "16/16 [==============================] - 0s 1ms/step - loss: 0.7981 - accuracy: 0.7706\n",
      "Epoch 47/50\n",
      "16/16 [==============================] - 0s 1ms/step - loss: 1.0443 - accuracy: 0.7400\n",
      "Epoch 48/50\n",
      "16/16 [==============================] - 0s 1ms/step - loss: 0.9760 - accuracy: 0.7381\n",
      "Epoch 49/50\n",
      "16/16 [==============================] - 0s 1ms/step - loss: 1.2072 - accuracy: 0.7100\n",
      "Epoch 50/50\n",
      "16/16 [==============================] - 0s 2ms/step - loss: 0.7558 - accuracy: 0.7738\n"
     ]
    },
    {
     "data": {
      "text/plain": [
       "<keras.callbacks.History at 0x1d0c3120bb0>"
      ]
     },
     "execution_count": 75,
     "metadata": {},
     "output_type": "execute_result"
    }
   ],
   "source": [
    "model.fit(variables,results,batch_size=100,epochs=50)"
   ]
  },
  {
   "cell_type": "code",
   "execution_count": 76,
   "metadata": {},
   "outputs": [
    {
     "name": "stdout",
     "output_type": "stream",
     "text": [
      "Model: \"sequential_4\"\n",
      "_________________________________________________________________\n",
      " Layer (type)                Output Shape              Param #   \n",
      "=================================================================\n",
      " dense_10 (Dense)            (None, 256)               5376      \n",
      "                                                                 \n",
      " dense_11 (Dense)            (None, 256)               65792     \n",
      "                                                                 \n",
      " dense_12 (Dense)            (None, 4)                 1028      \n",
      "                                                                 \n",
      "=================================================================\n",
      "Total params: 72,196\n",
      "Trainable params: 72,196\n",
      "Non-trainable params: 0\n",
      "_________________________________________________________________\n"
     ]
    }
   ],
   "source": [
    "model.summary()"
   ]
  },
  {
   "cell_type": "code",
   "execution_count": 77,
   "metadata": {},
   "outputs": [
    {
     "name": "stdout",
     "output_type": "stream",
     "text": [
      "8/8 [==============================] - 0s 1ms/step - loss: 1.2560 - accuracy: 0.6975\n"
     ]
    },
    {
     "data": {
      "text/plain": [
       "[1.2560240030288696, 0.6974999904632568]"
      ]
     },
     "execution_count": 77,
     "metadata": {},
     "output_type": "execute_result"
    }
   ],
   "source": [
    "variables_test,results_test = data_transform(test_dataset)\n",
    "\n",
    "\n",
    "model.evaluate(variables_test,results_test,batch_size=50)"
   ]
  },
  {
   "cell_type": "code",
   "execution_count": 79,
   "metadata": {},
   "outputs": [
    {
     "data": {
      "text/plain": [
       "array([[1.9016701e-07, 9.9999774e-01, 2.1332507e-06, 1.5718996e-20],\n",
       "       [8.3882493e-01, 1.6116546e-01, 9.6788535e-06, 1.4340828e-28],\n",
       "       [2.4863273e-24, 7.8727554e-12, 1.4610268e-04, 9.9985385e-01]],\n",
       "      dtype=float32)"
      ]
     },
     "execution_count": 79,
     "metadata": {},
     "output_type": "execute_result"
    }
   ],
   "source": [
    "model.predict(variables_test[:3])"
   ]
  },
  {
   "cell_type": "code",
   "execution_count": 80,
   "metadata": {},
   "outputs": [
    {
     "data": {
      "text/plain": [
       "array([1, 0, 3], dtype=int64)"
      ]
     },
     "execution_count": 80,
     "metadata": {},
     "output_type": "execute_result"
    }
   ],
   "source": [
    "results_test[:3]"
   ]
  },
  {
   "cell_type": "code",
   "execution_count": 81,
   "metadata": {},
   "outputs": [],
   "source": [
    "# model.save('keras_model.h5')"
   ]
  }
 ],
 "metadata": {
  "interpreter": {
   "hash": "051f523ea69bc1770ecd2306c10409abac68aa2062faba780e671356775dd235"
  },
  "kernelspec": {
   "display_name": "Python 3.8.8 ('base')",
   "language": "python",
   "name": "python3"
  },
  "language_info": {
   "codemirror_mode": {
    "name": "ipython",
    "version": 3
   },
   "file_extension": ".py",
   "mimetype": "text/x-python",
   "name": "python",
   "nbconvert_exporter": "python",
   "pygments_lexer": "ipython3",
   "version": "3.8.8"
  },
  "orig_nbformat": 4
 },
 "nbformat": 4,
 "nbformat_minor": 2
}
