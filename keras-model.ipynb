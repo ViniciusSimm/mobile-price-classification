{
 "cells": [
  {
   "cell_type": "code",
   "execution_count": 1,
   "metadata": {},
   "outputs": [],
   "source": [
    "import pandas as pd\n",
    "import numpy as np\n",
    "import tensorflow as tf\n",
    "from tensorflow import keras\n",
    "from tensorflow.keras import layers"
   ]
  },
  {
   "cell_type": "code",
   "execution_count": 2,
   "metadata": {},
   "outputs": [],
   "source": [
    "full_dataset = pd.read_csv('train.csv')\n",
    "divider = int(full_dataset.shape[0] * 0.8)\n",
    "\n",
    "train_dataset = full_dataset[:divider]\n",
    "test_dataset = full_dataset[divider:]\n"
   ]
  },
  {
   "cell_type": "code",
   "execution_count": 12,
   "metadata": {},
   "outputs": [],
   "source": [
    "def data_transform(dataset):\n",
    "    variables = dataset.drop('price_range',axis=1)\n",
    "    variables_array = np.array(variables)\n",
    "    results = dataset['price_range']\n",
    "    results_array = np.array(results)\n",
    "\n",
    "    return variables_array,results_array"
   ]
  },
  {
   "cell_type": "code",
   "execution_count": 13,
   "metadata": {},
   "outputs": [
    {
     "name": "stdout",
     "output_type": "stream",
     "text": [
      "(1600, 20) (1600,)\n"
     ]
    }
   ],
   "source": [
    "variables,results = data_transform(train_dataset)\n",
    "\n",
    "print(variables.shape,results.shape)"
   ]
  },
  {
   "cell_type": "code",
   "execution_count": 5,
   "metadata": {},
   "outputs": [],
   "source": [
    "model = keras.Sequential([\n",
    "    layers.Dense(256, activation= tf.nn.relu),\n",
    "    layers.Dense(4, activation= tf.nn.softmax)\n",
    "])"
   ]
  },
  {
   "cell_type": "code",
   "execution_count": 6,
   "metadata": {},
   "outputs": [],
   "source": [
    "model.compile(optimizer='adam',loss='sparse_categorical_crossentropy',metrics=['accuracy'])"
   ]
  },
  {
   "cell_type": "code",
   "execution_count": 24,
   "metadata": {},
   "outputs": [
    {
     "name": "stdout",
     "output_type": "stream",
     "text": [
      "Epoch 1/10\n",
      "16/16 [==============================] - 0s 2ms/step - loss: 2.3695 - accuracy: 0.7131\n",
      "Epoch 2/10\n",
      "16/16 [==============================] - 0s 2ms/step - loss: 1.8302 - accuracy: 0.7506\n",
      "Epoch 3/10\n",
      "16/16 [==============================] - 0s 1ms/step - loss: 1.3440 - accuracy: 0.7681\n",
      "Epoch 4/10\n",
      "16/16 [==============================] - 0s 1ms/step - loss: 1.1132 - accuracy: 0.7987\n",
      "Epoch 5/10\n",
      "16/16 [==============================] - 0s 1ms/step - loss: 1.4910 - accuracy: 0.7506\n",
      "Epoch 6/10\n",
      "16/16 [==============================] - 0s 1ms/step - loss: 1.2249 - accuracy: 0.7738\n",
      "Epoch 7/10\n",
      "16/16 [==============================] - 0s 1ms/step - loss: 1.3562 - accuracy: 0.7613\n",
      "Epoch 8/10\n",
      "16/16 [==============================] - 0s 1ms/step - loss: 1.0966 - accuracy: 0.7731\n",
      "Epoch 9/10\n",
      "16/16 [==============================] - 0s 1ms/step - loss: 1.1420 - accuracy: 0.7719\n",
      "Epoch 10/10\n",
      "16/16 [==============================] - 0s 1ms/step - loss: 1.4928 - accuracy: 0.7469\n"
     ]
    },
    {
     "data": {
      "text/plain": [
       "<keras.callbacks.History at 0x21591ff2f40>"
      ]
     },
     "execution_count": 24,
     "metadata": {},
     "output_type": "execute_result"
    }
   ],
   "source": [
    "model.fit(variables,results,batch_size=100,epochs=10)"
   ]
  },
  {
   "cell_type": "code",
   "execution_count": 21,
   "metadata": {},
   "outputs": [
    {
     "name": "stdout",
     "output_type": "stream",
     "text": [
      "Model: \"sequential\"\n",
      "_________________________________________________________________\n",
      " Layer (type)                Output Shape              Param #   \n",
      "=================================================================\n",
      " dense (Dense)               (None, 256)               5376      \n",
      "                                                                 \n",
      " dense_1 (Dense)             (None, 4)                 1028      \n",
      "                                                                 \n",
      "=================================================================\n",
      "Total params: 6,404\n",
      "Trainable params: 6,404\n",
      "Non-trainable params: 0\n",
      "_________________________________________________________________\n"
     ]
    }
   ],
   "source": [
    "model.summary()"
   ]
  },
  {
   "cell_type": "code",
   "execution_count": 29,
   "metadata": {},
   "outputs": [
    {
     "name": "stdout",
     "output_type": "stream",
     "text": [
      "8/8 [==============================] - 0s 1ms/step - loss: 2.3208 - accuracy: 0.6975\n"
     ]
    },
    {
     "data": {
      "text/plain": [
       "[2.320770263671875, 0.6974999904632568]"
      ]
     },
     "execution_count": 29,
     "metadata": {},
     "output_type": "execute_result"
    }
   ],
   "source": [
    "variables_test,results_test = data_transform(test_dataset)\n",
    "\n",
    "\n",
    "model.evaluate(variables_test,results_test,batch_size=50)"
   ]
  },
  {
   "cell_type": "code",
   "execution_count": 30,
   "metadata": {},
   "outputs": [
    {
     "data": {
      "text/plain": [
       "array([[4.2910964e-09, 1.0000000e+00, 2.3975562e-09, 1.0928785e-35],\n",
       "       [9.7175813e-01, 2.7786998e-02, 4.5481254e-04, 7.5329188e-24],\n",
       "       [0.0000000e+00, 2.7049993e-23, 2.5274245e-14, 1.0000000e+00]],\n",
       "      dtype=float32)"
      ]
     },
     "execution_count": 30,
     "metadata": {},
     "output_type": "execute_result"
    }
   ],
   "source": [
    "model.predict(variables_test[:3])"
   ]
  },
  {
   "cell_type": "code",
   "execution_count": 31,
   "metadata": {},
   "outputs": [
    {
     "data": {
      "text/plain": [
       "array([1, 0, 3], dtype=int64)"
      ]
     },
     "execution_count": 31,
     "metadata": {},
     "output_type": "execute_result"
    }
   ],
   "source": [
    "results_test[:3]"
   ]
  },
  {
   "cell_type": "code",
   "execution_count": null,
   "metadata": {},
   "outputs": [],
   "source": []
  }
 ],
 "metadata": {
  "interpreter": {
   "hash": "051f523ea69bc1770ecd2306c10409abac68aa2062faba780e671356775dd235"
  },
  "kernelspec": {
   "display_name": "Python 3.8.8 ('base')",
   "language": "python",
   "name": "python3"
  },
  "language_info": {
   "codemirror_mode": {
    "name": "ipython",
    "version": 3
   },
   "file_extension": ".py",
   "mimetype": "text/x-python",
   "name": "python",
   "nbconvert_exporter": "python",
   "pygments_lexer": "ipython3",
   "version": "3.8.8"
  },
  "orig_nbformat": 4
 },
 "nbformat": 4,
 "nbformat_minor": 2
}
