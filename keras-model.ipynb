{
 "cells": [
  {
   "cell_type": "code",
   "execution_count": 22,
   "metadata": {},
   "outputs": [],
   "source": [
    "import pandas as pd\n",
    "import numpy as np\n",
    "import tensorflow as tf\n",
    "from tensorflow import keras\n",
    "from tensorflow.keras import layers\n",
    "import matplotlib.pyplot as plt\n",
    "import seaborn as sns"
   ]
  },
  {
   "cell_type": "code",
   "execution_count": 3,
   "metadata": {},
   "outputs": [],
   "source": [
    "full_dataset = pd.read_csv('train.csv')\n",
    "divider = int(full_dataset.shape[0] * 0.8)\n",
    "\n",
    "train_dataset = full_dataset[:divider]\n",
    "test_dataset = full_dataset[divider:]\n"
   ]
  },
  {
   "cell_type": "code",
   "execution_count": 4,
   "metadata": {},
   "outputs": [],
   "source": [
    "def data_transform(dataset):\n",
    "    variables = dataset.drop('price_range',axis=1)\n",
    "    variables_array = np.array(variables)\n",
    "    results = dataset['price_range']\n",
    "    results_array = np.array(results)\n",
    "\n",
    "    return variables_array,results_array"
   ]
  },
  {
   "cell_type": "code",
   "execution_count": 5,
   "metadata": {},
   "outputs": [
    {
     "name": "stdout",
     "output_type": "stream",
     "text": [
      "(1600, 20) (1600,)\n"
     ]
    }
   ],
   "source": [
    "variables,results = data_transform(train_dataset)\n",
    "\n",
    "print(variables.shape,results.shape)"
   ]
  },
  {
   "cell_type": "markdown",
   "metadata": {},
   "source": [
    "Create and Train Model"
   ]
  },
  {
   "cell_type": "code",
   "execution_count": 6,
   "metadata": {},
   "outputs": [],
   "source": [
    "model = keras.Sequential([\n",
    "    layers.Dense(256, activation= tf.nn.relu, input_dim = 20),\n",
    "    \n",
    "    layers.Dropout(0.2),\n",
    "\n",
    "    layers.Dense(256, activation= tf.nn.relu),\n",
    "\n",
    "    layers.Dense(4, activation= tf.nn.softmax)\n",
    "])"
   ]
  },
  {
   "cell_type": "code",
   "execution_count": 7,
   "metadata": {},
   "outputs": [],
   "source": [
    "model.compile(optimizer='adam',loss='sparse_categorical_crossentropy',metrics=['accuracy'])"
   ]
  },
  {
   "cell_type": "code",
   "execution_count": 8,
   "metadata": {},
   "outputs": [
    {
     "name": "stdout",
     "output_type": "stream",
     "text": [
      "Epoch 1/60\n",
      "16/16 [==============================] - 0s 1ms/step - loss: 72.3774 - accuracy: 0.4144\n",
      "Epoch 2/60\n",
      "16/16 [==============================] - 0s 2ms/step - loss: 43.5945 - accuracy: 0.4694\n",
      "Epoch 3/60\n",
      "16/16 [==============================] - 0s 2ms/step - loss: 28.9168 - accuracy: 0.5006\n",
      "Epoch 4/60\n",
      "16/16 [==============================] - 0s 2ms/step - loss: 24.3237 - accuracy: 0.5025\n",
      "Epoch 5/60\n",
      "16/16 [==============================] - 0s 3ms/step - loss: 19.0880 - accuracy: 0.5119\n",
      "Epoch 6/60\n",
      "16/16 [==============================] - 0s 2ms/step - loss: 18.2943 - accuracy: 0.4994\n",
      "Epoch 7/60\n",
      "16/16 [==============================] - 0s 2ms/step - loss: 16.5015 - accuracy: 0.4812\n",
      "Epoch 8/60\n",
      "16/16 [==============================] - 0s 2ms/step - loss: 13.7475 - accuracy: 0.5219\n",
      "Epoch 9/60\n",
      "16/16 [==============================] - 0s 2ms/step - loss: 12.0655 - accuracy: 0.5306\n",
      "Epoch 10/60\n",
      "16/16 [==============================] - 0s 3ms/step - loss: 10.7347 - accuracy: 0.5475\n",
      "Epoch 11/60\n",
      "16/16 [==============================] - 0s 2ms/step - loss: 10.2942 - accuracy: 0.5244\n",
      "Epoch 12/60\n",
      "16/16 [==============================] - 0s 2ms/step - loss: 10.1162 - accuracy: 0.5306\n",
      "Epoch 13/60\n",
      "16/16 [==============================] - 0s 2ms/step - loss: 9.2329 - accuracy: 0.5456\n",
      "Epoch 14/60\n",
      "16/16 [==============================] - 0s 2ms/step - loss: 7.2511 - accuracy: 0.5600\n",
      "Epoch 15/60\n",
      "16/16 [==============================] - 0s 2ms/step - loss: 6.8412 - accuracy: 0.5863\n",
      "Epoch 16/60\n",
      "16/16 [==============================] - 0s 2ms/step - loss: 7.2068 - accuracy: 0.5600\n",
      "Epoch 17/60\n",
      "16/16 [==============================] - 0s 1ms/step - loss: 6.6570 - accuracy: 0.5594\n",
      "Epoch 18/60\n",
      "16/16 [==============================] - 0s 1ms/step - loss: 6.2924 - accuracy: 0.5794\n",
      "Epoch 19/60\n",
      "16/16 [==============================] - 0s 1ms/step - loss: 5.9366 - accuracy: 0.5575\n",
      "Epoch 20/60\n",
      "16/16 [==============================] - 0s 2ms/step - loss: 5.8965 - accuracy: 0.5819\n",
      "Epoch 21/60\n",
      "16/16 [==============================] - 0s 2ms/step - loss: 6.0878 - accuracy: 0.5688\n",
      "Epoch 22/60\n",
      "16/16 [==============================] - 0s 1ms/step - loss: 4.9540 - accuracy: 0.5900\n",
      "Epoch 23/60\n",
      "16/16 [==============================] - 0s 2ms/step - loss: 4.1838 - accuracy: 0.5906\n",
      "Epoch 24/60\n",
      "16/16 [==============================] - 0s 2ms/step - loss: 4.1364 - accuracy: 0.5925\n",
      "Epoch 25/60\n",
      "16/16 [==============================] - 0s 1ms/step - loss: 4.3476 - accuracy: 0.5838\n",
      "Epoch 26/60\n",
      "16/16 [==============================] - 0s 1ms/step - loss: 4.4751 - accuracy: 0.5831\n",
      "Epoch 27/60\n",
      "16/16 [==============================] - 0s 1ms/step - loss: 3.7277 - accuracy: 0.5856\n",
      "Epoch 28/60\n",
      "16/16 [==============================] - 0s 2ms/step - loss: 3.2372 - accuracy: 0.6150\n",
      "Epoch 29/60\n",
      "16/16 [==============================] - 0s 1ms/step - loss: 3.2521 - accuracy: 0.6175\n",
      "Epoch 30/60\n",
      "16/16 [==============================] - 0s 1ms/step - loss: 3.8382 - accuracy: 0.6075\n",
      "Epoch 31/60\n",
      "16/16 [==============================] - 0s 1ms/step - loss: 4.0028 - accuracy: 0.6006\n",
      "Epoch 32/60\n",
      "16/16 [==============================] - 0s 1ms/step - loss: 2.9891 - accuracy: 0.6200\n",
      "Epoch 33/60\n",
      "16/16 [==============================] - 0s 1ms/step - loss: 3.3325 - accuracy: 0.6056\n",
      "Epoch 34/60\n",
      "16/16 [==============================] - 0s 2ms/step - loss: 2.8924 - accuracy: 0.6212\n",
      "Epoch 35/60\n",
      "16/16 [==============================] - 0s 2ms/step - loss: 2.4099 - accuracy: 0.6356\n",
      "Epoch 36/60\n",
      "16/16 [==============================] - 0s 2ms/step - loss: 2.0510 - accuracy: 0.6463\n",
      "Epoch 37/60\n",
      "16/16 [==============================] - 0s 2ms/step - loss: 2.6550 - accuracy: 0.6263\n",
      "Epoch 38/60\n",
      "16/16 [==============================] - 0s 1ms/step - loss: 2.2994 - accuracy: 0.6275\n",
      "Epoch 39/60\n",
      "16/16 [==============================] - 0s 2ms/step - loss: 1.9495 - accuracy: 0.6363\n",
      "Epoch 40/60\n",
      "16/16 [==============================] - 0s 2ms/step - loss: 2.0838 - accuracy: 0.6231\n",
      "Epoch 41/60\n",
      "16/16 [==============================] - 0s 1ms/step - loss: 1.8331 - accuracy: 0.6406\n",
      "Epoch 42/60\n",
      "16/16 [==============================] - 0s 1ms/step - loss: 1.7941 - accuracy: 0.6256\n",
      "Epoch 43/60\n",
      "16/16 [==============================] - 0s 2ms/step - loss: 1.8471 - accuracy: 0.6256\n",
      "Epoch 44/60\n",
      "16/16 [==============================] - 0s 1ms/step - loss: 1.6826 - accuracy: 0.6438\n",
      "Epoch 45/60\n",
      "16/16 [==============================] - 0s 2ms/step - loss: 1.5124 - accuracy: 0.6562\n",
      "Epoch 46/60\n",
      "16/16 [==============================] - 0s 2ms/step - loss: 1.4339 - accuracy: 0.6587\n",
      "Epoch 47/60\n",
      "16/16 [==============================] - 0s 2ms/step - loss: 1.5171 - accuracy: 0.6331\n",
      "Epoch 48/60\n",
      "16/16 [==============================] - 0s 1ms/step - loss: 1.3763 - accuracy: 0.6706\n",
      "Epoch 49/60\n",
      "16/16 [==============================] - 0s 1ms/step - loss: 1.3509 - accuracy: 0.6606\n",
      "Epoch 50/60\n",
      "16/16 [==============================] - 0s 1ms/step - loss: 1.3169 - accuracy: 0.6644\n",
      "Epoch 51/60\n",
      "16/16 [==============================] - 0s 1ms/step - loss: 1.3228 - accuracy: 0.6519\n",
      "Epoch 52/60\n",
      "16/16 [==============================] - 0s 2ms/step - loss: 1.1627 - accuracy: 0.6644\n",
      "Epoch 53/60\n",
      "16/16 [==============================] - 0s 1ms/step - loss: 1.4521 - accuracy: 0.6350\n",
      "Epoch 54/60\n",
      "16/16 [==============================] - 0s 1ms/step - loss: 1.3096 - accuracy: 0.6550\n",
      "Epoch 55/60\n",
      "16/16 [==============================] - 0s 1ms/step - loss: 1.2044 - accuracy: 0.6625\n",
      "Epoch 56/60\n",
      "16/16 [==============================] - 0s 1ms/step - loss: 1.3807 - accuracy: 0.6450\n",
      "Epoch 57/60\n",
      "16/16 [==============================] - 0s 1ms/step - loss: 1.2642 - accuracy: 0.6450\n",
      "Epoch 58/60\n",
      "16/16 [==============================] - 0s 1ms/step - loss: 1.2392 - accuracy: 0.6644\n",
      "Epoch 59/60\n",
      "16/16 [==============================] - 0s 2ms/step - loss: 1.0971 - accuracy: 0.6550\n",
      "Epoch 60/60\n",
      "16/16 [==============================] - 0s 1ms/step - loss: 1.2504 - accuracy: 0.6538\n"
     ]
    }
   ],
   "source": [
    "history = model.fit(variables,results,batch_size=100,epochs=60)"
   ]
  },
  {
   "cell_type": "code",
   "execution_count": 9,
   "metadata": {},
   "outputs": [
    {
     "name": "stdout",
     "output_type": "stream",
     "text": [
      "Model: \"sequential\"\n",
      "_________________________________________________________________\n",
      " Layer (type)                Output Shape              Param #   \n",
      "=================================================================\n",
      " dense (Dense)               (None, 256)               5376      \n",
      "                                                                 \n",
      " dropout (Dropout)           (None, 256)               0         \n",
      "                                                                 \n",
      " dense_1 (Dense)             (None, 256)               65792     \n",
      "                                                                 \n",
      " dense_2 (Dense)             (None, 4)                 1028      \n",
      "                                                                 \n",
      "=================================================================\n",
      "Total params: 72,196\n",
      "Trainable params: 72,196\n",
      "Non-trainable params: 0\n",
      "_________________________________________________________________\n"
     ]
    }
   ],
   "source": [
    "model.summary()"
   ]
  },
  {
   "cell_type": "markdown",
   "metadata": {},
   "source": [
    "Evaluate Model"
   ]
  },
  {
   "cell_type": "code",
   "execution_count": 10,
   "metadata": {},
   "outputs": [
    {
     "name": "stdout",
     "output_type": "stream",
     "text": [
      "[0.957675576210022, 0.6862499713897705]\n",
      "[1.339896559715271, 0.6449999809265137]\n"
     ]
    }
   ],
   "source": [
    "variables_test,results_test = data_transform(test_dataset)\n",
    "\n",
    "train_evaluate = model.evaluate(variables,results,batch_size=50, verbose=0)\n",
    "test_evaluate = model.evaluate(variables_test,results_test,batch_size=50, verbose=0)\n",
    "\n",
    "print(train_evaluate)\n",
    "print(test_evaluate)"
   ]
  },
  {
   "cell_type": "markdown",
   "metadata": {},
   "source": [
    "Progression of Training"
   ]
  },
  {
   "cell_type": "code",
   "execution_count": 13,
   "metadata": {},
   "outputs": [],
   "source": [
    "losses = history.history['loss']\n",
    "accuracies = history.history['accuracy']"
   ]
  },
  {
   "cell_type": "code",
   "execution_count": 31,
   "metadata": {},
   "outputs": [
    {
     "data": {
      "image/png": "[encoded data removed]",
      "text/plain": [
       "<Figure size 432x288 with 1 Axes>"
      ]
     },
     "metadata": {
      "needs_background": "light"
     },
     "output_type": "display_data"
    },
    {
     "data": {
      "image/png": "[encoded data removed]",
      "text/plain": [
       "<Figure size 432x288 with 1 Axes>"
      ]
     },
     "metadata": {
      "needs_background": "light"
     },
     "output_type": "display_data"
    }
   ],
   "source": [
    "\n",
    "plt.title(\"loss\")\n",
    "plt.plot(history.history['loss'], label='loss')\n",
    "\n",
    "plt.show()\n",
    "\n",
    "plt.title(\"accuracy\")\n",
    "plt.plot(history.history['accuracy'], label='accuracy')\n",
    "\n",
    "\n",
    "plt.show()\n"
   ]
  },
  {
   "cell_type": "code",
   "execution_count": 14,
   "metadata": {},
   "outputs": [],
   "source": [
    "# model.save('keras_model.h5')"
   ]
  }
 ],
 "metadata": {
  "interpreter": {
   "hash": "051f523ea69bc1770ecd2306c10409abac68aa2062faba780e671356775dd235"
  },
  "kernelspec": {
   "display_name": "Python 3.8.8 ('base')",
   "language": "python",
   "name": "python3"
  },
  "language_info": {
   "codemirror_mode": {
    "name": "ipython",
    "version": 3
   },
   "file_extension": ".py",
   "mimetype": "text/x-python",
   "name": "python",
   "nbconvert_exporter": "python",
   "pygments_lexer": "ipython3",
   "version": "3.8.8"
  },
  "orig_nbformat": 4
 },
 "nbformat": 4,
 "nbformat_minor": 2
}
