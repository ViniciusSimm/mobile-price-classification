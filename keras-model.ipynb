{
 "cells": [
  {
   "cell_type": "code",
   "execution_count": 6,
   "metadata": {},
   "outputs": [],
   "source": [
    "import pandas as pd\n",
    "import numpy as np\n",
    "import tensorflow as tf\n",
    "from tensorflow import keras\n",
    "from tensorflow.keras import layers"
   ]
  },
  {
   "cell_type": "code",
   "execution_count": 7,
   "metadata": {},
   "outputs": [],
   "source": [
    "full_dataset = pd.read_csv('train.csv')\n",
    "divider = int(full_dataset.shape[0] * 0.8)\n",
    "\n",
    "train_dataset = full_dataset[:divider]\n",
    "test_dataset = full_dataset[divider:]\n"
   ]
  },
  {
   "cell_type": "code",
   "execution_count": 8,
   "metadata": {},
   "outputs": [],
   "source": [
    "def data_transform(dataset):\n",
    "    variables = dataset.drop('price_range',axis=1)\n",
    "    variables_array = np.array(variables)\n",
    "    results = dataset['price_range']\n",
    "    results_array = np.array(results)\n",
    "\n",
    "    return variables_array,results_array"
   ]
  },
  {
   "cell_type": "code",
   "execution_count": 9,
   "metadata": {},
   "outputs": [
    {
     "name": "stdout",
     "output_type": "stream",
     "text": [
      "(1600, 20) (1600,)\n"
     ]
    }
   ],
   "source": [
    "variables,results = data_transform(train_dataset)\n",
    "\n",
    "print(variables.shape,results.shape)"
   ]
  },
  {
   "cell_type": "code",
   "execution_count": 55,
   "metadata": {},
   "outputs": [],
   "source": [
    "model = keras.Sequential([\n",
    "    layers.Dense(256, activation= tf.nn.relu),\n",
    "\n",
    "    # layers.Dense(256, activation= tf.nn.sigmoid),\n",
    "\n",
    "    layers.Dense(4, activation= tf.nn.softmax)\n",
    "])"
   ]
  },
  {
   "cell_type": "code",
   "execution_count": 56,
   "metadata": {},
   "outputs": [],
   "source": [
    "model.compile(optimizer='adam',loss='sparse_categorical_crossentropy',metrics=['accuracy'])"
   ]
  },
  {
   "cell_type": "code",
   "execution_count": 57,
   "metadata": {},
   "outputs": [
    {
     "name": "stdout",
     "output_type": "stream",
     "text": [
      "Epoch 1/10\n",
      "16/16 [==============================] - 0s 1ms/step - loss: 127.4938 - accuracy: 0.3338\n",
      "Epoch 2/10\n",
      "16/16 [==============================] - 0s 866us/step - loss: 23.4484 - accuracy: 0.4725\n",
      "Epoch 3/10\n",
      "16/16 [==============================] - 0s 933us/step - loss: 11.6278 - accuracy: 0.5444\n",
      "Epoch 4/10\n",
      "16/16 [==============================] - 0s 1000us/step - loss: 6.0747 - accuracy: 0.5569\n",
      "Epoch 5/10\n",
      "16/16 [==============================] - 0s 1ms/step - loss: 4.1749 - accuracy: 0.5744\n",
      "Epoch 6/10\n",
      "16/16 [==============================] - 0s 933us/step - loss: 3.0271 - accuracy: 0.6175\n",
      "Epoch 7/10\n",
      "16/16 [==============================] - 0s 867us/step - loss: 3.1160 - accuracy: 0.6025\n",
      "Epoch 8/10\n",
      "16/16 [==============================] - 0s 933us/step - loss: 2.9568 - accuracy: 0.6162\n",
      "Epoch 9/10\n",
      "16/16 [==============================] - 0s 867us/step - loss: 2.2768 - accuracy: 0.6444\n",
      "Epoch 10/10\n",
      "16/16 [==============================] - 0s 1ms/step - loss: 1.6931 - accuracy: 0.6856\n"
     ]
    },
    {
     "data": {
      "text/plain": [
       "<keras.callbacks.History at 0x176f104f0d0>"
      ]
     },
     "execution_count": 57,
     "metadata": {},
     "output_type": "execute_result"
    }
   ],
   "source": [
    "model.fit(variables,results,batch_size=100,epochs=10)"
   ]
  },
  {
   "cell_type": "code",
   "execution_count": 58,
   "metadata": {},
   "outputs": [
    {
     "name": "stdout",
     "output_type": "stream",
     "text": [
      "Model: \"sequential_8\"\n",
      "_________________________________________________________________\n",
      " Layer (type)                Output Shape              Param #   \n",
      "=================================================================\n",
      " dense_23 (Dense)            (100, 256)                5376      \n",
      "                                                                 \n",
      " dense_24 (Dense)            (100, 4)                  1028      \n",
      "                                                                 \n",
      "=================================================================\n",
      "Total params: 6,404\n",
      "Trainable params: 6,404\n",
      "Non-trainable params: 0\n",
      "_________________________________________________________________\n"
     ]
    }
   ],
   "source": [
    "model.summary()"
   ]
  },
  {
   "cell_type": "code",
   "execution_count": 59,
   "metadata": {},
   "outputs": [
    {
     "name": "stdout",
     "output_type": "stream",
     "text": [
      "8/8 [==============================] - 0s 862us/step - loss: 1.7396 - accuracy: 0.6500\n"
     ]
    },
    {
     "data": {
      "text/plain": [
       "[1.7395968437194824, 0.6499999761581421]"
      ]
     },
     "execution_count": 59,
     "metadata": {},
     "output_type": "execute_result"
    }
   ],
   "source": [
    "variables_test,results_test = data_transform(test_dataset)\n",
    "\n",
    "\n",
    "model.evaluate(variables_test,results_test,batch_size=50)"
   ]
  },
  {
   "cell_type": "code",
   "execution_count": 62,
   "metadata": {},
   "outputs": [
    {
     "data": {
      "text/plain": [
       "array([[1.3617364e-02, 8.9980650e-01, 8.6576097e-02, 6.3050687e-16],\n",
       "       [3.2885000e-05, 9.9677092e-01, 3.1961661e-03, 1.4903330e-36],\n",
       "       [4.0608518e-27, 1.8463674e-10, 2.6492071e-06, 9.9999738e-01]],\n",
       "      dtype=float32)"
      ]
     },
     "execution_count": 62,
     "metadata": {},
     "output_type": "execute_result"
    }
   ],
   "source": [
    "model.predict(variables_test[:3])"
   ]
  },
  {
   "cell_type": "code",
   "execution_count": 51,
   "metadata": {},
   "outputs": [
    {
     "data": {
      "text/plain": [
       "array([1, 0, 3], dtype=int64)"
      ]
     },
     "execution_count": 51,
     "metadata": {},
     "output_type": "execute_result"
    }
   ],
   "source": [
    "results_test[:3]"
   ]
  },
  {
   "cell_type": "code",
   "execution_count": null,
   "metadata": {},
   "outputs": [],
   "source": []
  }
 ],
 "metadata": {
  "interpreter": {
   "hash": "051f523ea69bc1770ecd2306c10409abac68aa2062faba780e671356775dd235"
  },
  "kernelspec": {
   "display_name": "Python 3.8.8 ('base')",
   "language": "python",
   "name": "python3"
  },
  "language_info": {
   "codemirror_mode": {
    "name": "ipython",
    "version": 3
   },
   "file_extension": ".py",
   "mimetype": "text/x-python",
   "name": "python",
   "nbconvert_exporter": "python",
   "pygments_lexer": "ipython3",
   "version": "3.8.8"
  },
  "orig_nbformat": 4
 },
 "nbformat": 4,
 "nbformat_minor": 2
}
